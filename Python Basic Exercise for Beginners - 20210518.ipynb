{
 "cells": [
  {
   "cell_type": "markdown",
   "metadata": {},
   "source": [
    "https://pynative.com/python-basic-exercise-for-beginners/"
   ]
  },
  {
   "cell_type": "markdown",
   "metadata": {},
   "source": [
    "#### Exercise 1: Given two integer numbers return their product. If the product is greater than 1000, then return their sum"
   ]
  },
  {
   "cell_type": "code",
   "execution_count": 1,
   "metadata": {},
   "outputs": [],
   "source": [
    "number1 = 40\n",
    "number2 = 30"
   ]
  },
  {
   "cell_type": "code",
   "execution_count": 2,
   "metadata": {},
   "outputs": [],
   "source": [
    "if number1 * number2 < 1000:\n",
    "    print(\"The result is\" , number1 * number2)\n",
    "    \n",
    "else:\n",
    "    print(\"The result is\" , number1 + number2)"
   ]
  },
  {
   "cell_type": "markdown",
   "metadata": {},
   "source": [
    "#### Exercise 2: Given a range of the first 10 numbers, Iterate from the start number to the end number, and In each iteration print the sum of the current number and previous number\n"
   ]
  },
  {
   "cell_type": "code",
   "execution_count": 3,
   "metadata": {},
   "outputs": [],
   "source": [
    "def sumNum(num):\n",
    "    previousNum = 0\n",
    "    for i in range(num):\n",
    "        sum = previousNum + i\n",
    "        print(\"Current Number\", i, \"Previous Number \", previousNum,\" Sum: \", sum)\n",
    "        previousNum = i\n",
    "\n",
    "print(\"Printing current and previous number sum in a given range(10)\")\n",
    "sumNum(10)"
   ]
  },
  {
   "cell_type": "markdown",
   "metadata": {},
   "source": [
    "#### Exercise 3: Given a string, display only those characters which are present at an even index number."
   ]
  },
  {
   "cell_type": "code",
   "execution_count": 4,
   "metadata": {},
   "outputs": [
    {
     "name": "stdout",
     "output_type": "stream",
     "text": [
      "Orginal String is  pynative\n",
      "Printing only even index chars\n",
      "index[ 0 ] p\n",
      "index[ 2 ] n\n",
      "index[ 4 ] t\n",
      "index[ 6 ] v\n"
     ]
    }
   ],
   "source": [
    "def printEveIndexChar(str):\n",
    "  for i in range(0, len(str)-1, 2):\n",
    "    print(\"index[\",i,\"]\", str[i] )\n",
    "\n",
    "inputStr = \"pynative\" \n",
    "print(\"Orginal String is \", inputStr)\n",
    "\n",
    "print(\"Printing only even index chars\")\n",
    "printEveIndexChar(inputStr)"
   ]
  },
  {
   "cell_type": "markdown",
   "metadata": {},
   "source": [
    "#### Exercise 4: Given a string and an integer number n, remove characters from a string starting from zero up to n and return a new string"
   ]
  },
  {
   "cell_type": "code",
   "execution_count": 5,
   "metadata": {},
   "outputs": [
    {
     "name": "stdout",
     "output_type": "stream",
     "text": [
      "Removing n number of chars\n",
      "tive\n"
     ]
    }
   ],
   "source": [
    "def removeChars(str, n):\n",
    "  return str[n:]\n",
    "\n",
    "print(\"Removing n number of chars\")\n",
    "print(removeChars(\"pynative\", 4))"
   ]
  },
  {
   "cell_type": "markdown",
   "metadata": {},
   "source": [
    "#### Exercise 5: Given a list of numbers, return True if first and last number of a list is same\n"
   ]
  },
  {
   "cell_type": "code",
   "execution_count": 6,
   "metadata": {},
   "outputs": [],
   "source": [
    "givenlist =  [10, 20, 30, 40, 50]"
   ]
  },
  {
   "cell_type": "code",
   "execution_count": 7,
   "metadata": {},
   "outputs": [],
   "source": [
    "def givenlistcheck(givenlist):\n",
    "    print(\"Given list is\", givenlist)\n",
    "    print(\"Result is\" , givenlist[0] == givenlist[-1])"
   ]
  },
  {
   "cell_type": "code",
   "execution_count": 8,
   "metadata": {},
   "outputs": [
    {
     "name": "stdout",
     "output_type": "stream",
     "text": [
      "Given list is [10, 20, 30, 40, 50]\n",
      "Result is False\n"
     ]
    }
   ],
   "source": [
    "givenlistcheck(givenlist)"
   ]
  },
  {
   "cell_type": "markdown",
   "metadata": {},
   "source": [
    "#### Exercise 6: Given a list of numbers, Iterate it and print only those numbers which are divisible of 5\n"
   ]
  },
  {
   "cell_type": "code",
   "execution_count": 9,
   "metadata": {},
   "outputs": [],
   "source": [
    "givenlist = [10, 20, 33, 46, 55]"
   ]
  },
  {
   "cell_type": "code",
   "execution_count": 10,
   "metadata": {},
   "outputs": [],
   "source": [
    "def divisiblecheck(givenlist):\n",
    "    print(\"Given list is\", givenlist)\n",
    "    print(\"Divisible of 5 in a list\")\n",
    "    for num in givenlist:\n",
    "        if num % 5 == 0:\n",
    "            print(num)"
   ]
  },
  {
   "cell_type": "code",
   "execution_count": 11,
   "metadata": {},
   "outputs": [
    {
     "name": "stdout",
     "output_type": "stream",
     "text": [
      "Given list is [10, 20, 33, 46, 55]\n",
      "Divisible of 5 in a list\n",
      "10\n",
      "20\n",
      "55\n"
     ]
    }
   ],
   "source": [
    "divisiblecheck(givenlist)"
   ]
  },
  {
   "cell_type": "markdown",
   "metadata": {},
   "source": [
    "#### Exercise 7: Return the count of sub-string “Emma” appears in the given string\n"
   ]
  },
  {
   "cell_type": "code",
   "execution_count": 12,
   "metadata": {},
   "outputs": [],
   "source": [
    "str1 = \"Emma is good developer. Emma is a writer\""
   ]
  },
  {
   "cell_type": "code",
   "execution_count": 13,
   "metadata": {},
   "outputs": [
    {
     "name": "stdout",
     "output_type": "stream",
     "text": [
      "Emma appeared 2 times\n"
     ]
    }
   ],
   "source": [
    "appeartime = str1.count(\"Emma\")\n",
    "print(f\"Emma appeared {appeartime} times\")"
   ]
  },
  {
   "cell_type": "markdown",
   "metadata": {},
   "source": [
    "#### Exercise 9: Reverse a given number and return true if it is the same as the original number\n"
   ]
  },
  {
   "cell_type": "code",
   "execution_count": 14,
   "metadata": {},
   "outputs": [],
   "source": [
    "givennum = 121"
   ]
  },
  {
   "cell_type": "code",
   "execution_count": 22,
   "metadata": {},
   "outputs": [],
   "source": [
    "def reversecheck(givennum):\n",
    "    givennumstr = str(givennum)\n",
    "    revernumstr = givennumstr[::-1]\n",
    "    print(\"original number\", givennum)\n",
    "    if givennumstr == revernumstr:\n",
    "        print(\"The original and reverse number is the same\")\n",
    "    else:\n",
    "        print(\"The original and reverse number is not same\")"
   ]
  },
  {
   "cell_type": "code",
   "execution_count": 23,
   "metadata": {},
   "outputs": [
    {
     "name": "stdout",
     "output_type": "stream",
     "text": [
      "original number 121\n",
      "The original and reverse number is the same\n"
     ]
    }
   ],
   "source": [
    "reversecheck(givennum)"
   ]
  },
  {
   "cell_type": "markdown",
   "metadata": {},
   "source": [
    "#### Exercise 10: Given a two list of numbers create a new list such that new list should contain only odd numbers from the first list and even numbers from the second list\n"
   ]
  },
  {
   "cell_type": "code",
   "execution_count": 26,
   "metadata": {},
   "outputs": [],
   "source": [
    "list1 =  [10, 20, 23, 11, 17]\n",
    "list2 = [13, 43, 24, 36, 12]"
   ]
  },
  {
   "cell_type": "code",
   "execution_count": 31,
   "metadata": {},
   "outputs": [],
   "source": [
    "def mergelistoddeven(list1,list2):\n",
    "    newlist1 = []\n",
    "    newlist2 = []\n",
    "    \n",
    "    for x in list1:\n",
    "        if x % 2 != 0:\n",
    "            newlist1.append(x)\n",
    "            \n",
    "    for x in list2:\n",
    "        if x % 2 == 0:\n",
    "            newlist2.append(x)\n",
    "    \n",
    "    resultlist = newlist1 + newlist2\n",
    "    print(\"Result List is\", resultlist)"
   ]
  },
  {
   "cell_type": "code",
   "execution_count": 32,
   "metadata": {},
   "outputs": [
    {
     "name": "stdout",
     "output_type": "stream",
     "text": [
      "Result List is [23, 11, 17, 24, 36, 12]\n"
     ]
    }
   ],
   "source": [
    "mergelistoddeven(list1,list2)"
   ]
  },
  {
   "cell_type": "markdown",
   "metadata": {},
   "source": [
    "#### Exercise 11: Write a code to extract each digit from an integer, in the reverse order\n"
   ]
  },
  {
   "cell_type": "code",
   "execution_count": 55,
   "metadata": {},
   "outputs": [],
   "source": [
    "def extractdigitrev(givennum):\n",
    "    strgivennum = str(givennum)\n",
    "    outcome = strgivennum[::-1].split(\" \")\n",
    "    print(outcome)\n",
    "    "
   ]
  },
  {
   "cell_type": "code",
   "execution_count": 56,
   "metadata": {},
   "outputs": [
    {
     "name": "stdout",
     "output_type": "stream",
     "text": [
      "['6357']\n"
     ]
    }
   ],
   "source": [
    "extractdigitrev(7536)"
   ]
  },
  {
   "cell_type": "markdown",
   "metadata": {},
   "source": [
    "#### Exercise 14: Print downward Half-Pyramid Pattern with Star (asterisk)\n",
    "**Remember this one**\n",
    "<br>* * * * *  \n",
    "<br>* * * *  \n",
    "<br>* * *  \n",
    "<br>* *  \n",
    "<br>*"
   ]
  },
  {
   "cell_type": "code",
   "execution_count": 59,
   "metadata": {},
   "outputs": [
    {
     "name": "stdout",
     "output_type": "stream",
     "text": [
      "* * * * *  \n",
      "* * * *  \n",
      "* * *  \n",
      "* *  \n",
      "*  \n",
      " \n"
     ]
    }
   ],
   "source": [
    "for i in range(6,0,-1):\n",
    "    for j in range(0,i-1):\n",
    "        print(\"*\",end=\" \")\n",
    "    print(\" \")"
   ]
  },
  {
   "cell_type": "code",
   "execution_count": 1,
   "metadata": {},
   "outputs": [
    {
     "name": "stdout",
     "output_type": "stream",
     "text": [
      "*  \n",
      "* *  \n",
      "* * *  \n",
      "* * * *  \n",
      "* * * * *  \n",
      "* * * * * *  \n"
     ]
    }
   ],
   "source": [
    "for i in range(6):\n",
    "    for j in range(0,i+1):\n",
    "        print(\"*\",end=\" \")\n",
    "    print(\" \")"
   ]
  },
  {
   "cell_type": "code",
   "execution_count": null,
   "metadata": {},
   "outputs": [],
   "source": []
  }
 ],
 "metadata": {
  "kernelspec": {
   "display_name": "Python 3",
   "language": "python",
   "name": "python3"
  },
  "language_info": {
   "codemirror_mode": {
    "name": "ipython",
    "version": 3
   },
   "file_extension": ".py",
   "mimetype": "text/x-python",
   "name": "python",
   "nbconvert_exporter": "python",
   "pygments_lexer": "ipython3",
   "version": "3.8.10"
  }
 },
 "nbformat": 4,
 "nbformat_minor": 4
}
