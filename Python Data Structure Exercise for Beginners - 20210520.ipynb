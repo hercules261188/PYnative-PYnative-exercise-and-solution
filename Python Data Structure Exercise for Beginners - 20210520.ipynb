{
 "cells": [
  {
   "cell_type": "markdown",
   "metadata": {},
   "source": [
    "https://pynative.com/python-data-structure-exercise-for-beginners/"
   ]
  },
  {
   "cell_type": "markdown",
   "metadata": {},
   "source": [
    "#### Exercise 1: Given two lists create a third list by picking an odd-index element from the first list and even index elements from the second.\n"
   ]
  },
  {
   "cell_type": "code",
   "execution_count": 1,
   "metadata": {},
   "outputs": [],
   "source": [
    "listOne = [3, 6, 9, 12, 15, 18, 21]\n",
    "listTwo = [4, 8, 12, 16, 20, 24, 28]"
   ]
  },
  {
   "cell_type": "code",
   "execution_count": 10,
   "metadata": {},
   "outputs": [
    {
     "name": "stdout",
     "output_type": "stream",
     "text": [
      "Element at odd-index positions from list one = [3, 6, 9, 12, 15, 18, 21]\n",
      "[6, 12, 18]\n",
      "Element at odd-index positions from list two = [4, 8, 12, 16, 20, 24, 28]\n",
      "[4, 12, 20, 28]\n",
      "Printing Final third list\n",
      "[6, 12, 18, 4, 12, 20, 28]\n"
     ]
    }
   ],
   "source": [
    "print(f\"Element at odd-index positions from list one = {listOne}\")\n",
    "oddelement = listOne[1::2]\n",
    "print(oddelement)\n",
    "\n",
    "print(f\"Element at odd-index positions from list two = {listTwo}\")\n",
    "evenelement = listTwo[::2]\n",
    "print(evenelement)\n",
    "\n",
    "print(\"Printing Final third list\")\n",
    "print(oddelement+evenelement)"
   ]
  },
  {
   "cell_type": "markdown",
   "metadata": {},
   "source": [
    "#### Exercise 2: Given a list, remove the element at index 4 and add it to the 2nd position and at the end of the list\n"
   ]
  },
  {
   "cell_type": "code",
   "execution_count": 35,
   "metadata": {},
   "outputs": [],
   "source": [
    "list1 = [34, 54, 67, 89, 11, 43, 94]"
   ]
  },
  {
   "cell_type": "code",
   "execution_count": 36,
   "metadata": {},
   "outputs": [
    {
     "name": "stdout",
     "output_type": "stream",
     "text": [
      "Original list [34, 54, 67, 89, 11, 43, 94]\n",
      "List After removing element at index 4 [34, 54, 67, 89, 43, 94]\n",
      "List after Adding element at index 2 [34, 54, 11, 67, 89, 43, 94]\n",
      "List after Adding element at last [34, 54, 11, 67, 89, 43, 94, 11]\n"
     ]
    }
   ],
   "source": [
    "print(\"Original list\", list1)\n",
    "\n",
    "list2 = list1.pop(4)\n",
    "print(\"List After removing element at index 4\", list1)\n",
    "\n",
    "list3 = list1.insert(2,list2)\n",
    "print(\"List after Adding element at index 2\", list1)\n",
    "\n",
    "list4 = list1.append(list2)\n",
    "print(\"List after Adding element at last\", list1)"
   ]
  },
  {
   "cell_type": "markdown",
   "metadata": {},
   "source": [
    "#### Exercise 3: Given a list slice it into 3 equal chunks and reverse each chunk\n"
   ]
  },
  {
   "cell_type": "code",
   "execution_count": 37,
   "metadata": {},
   "outputs": [],
   "source": [
    "sampleList = [11, 45, 8, 23, 14, 12, 78, 45, 89]"
   ]
  },
  {
   "cell_type": "code",
   "execution_count": 45,
   "metadata": {},
   "outputs": [
    {
     "name": "stdout",
     "output_type": "stream",
     "text": [
      "Original List: [11, 45, 8, 23, 14, 12, 78, 45, 89]\n",
      "Chunk 1: [11, 45, 8]\n",
      "After reversing it: [8, 45, 11]\n",
      "Chunk 2: [23, 14, 12]\n",
      "After reversing it: [12, 14, 23]\n",
      "Chunk 3: [78, 45, 89]\n",
      "After reversing it: [89, 45, 78]\n"
     ]
    }
   ],
   "source": [
    "print(f\"Original List: {sampleList}\")\n",
    "\n",
    "unit1 = sampleList[0:3]\n",
    "reverseunit1 = unit1[::-1]\n",
    "print(f\"Chunk 1: {unit1}\")\n",
    "print(f\"After reversing it: {reverseunit1}\")\n",
    "\n",
    "unit2 = sampleList[3:6]\n",
    "reverseunit2 = unit2[::-1]\n",
    "print(f\"Chunk 2: {unit2}\")\n",
    "print(f\"After reversing it: {reverseunit2}\")\n",
    "\n",
    "unit3 = sampleList[6:9]\n",
    "reverseunit3 = unit3[::-1]\n",
    "print(f\"Chunk 3: {unit3}\")\n",
    "print(f\"After reversing it: {reverseunit3}\")"
   ]
  },
  {
   "cell_type": "markdown",
   "metadata": {},
   "source": [
    "#### Exercise 4: Iterate a given list and count the occurrence of each element and create a dictionary to show the count of each element "
   ]
  },
  {
   "cell_type": "code",
   "execution_count": 47,
   "metadata": {},
   "outputs": [
    {
     "name": "stdout",
     "output_type": "stream",
     "text": [
      "Original list  [11, 45, 8, 11, 23, 45, 23, 45, 89]\n",
      "Printing count of each item   {11: 2, 45: 3, 8: 1, 23: 2, 89: 1}\n"
     ]
    }
   ],
   "source": [
    "sampleList = [11, 45, 8, 11, 23, 45, 23, 45, 89]\n",
    "print(\"Original list \", sampleList)\n",
    "\n",
    "countDict = dict()\n",
    "for item in sampleList:\n",
    "    if(item in countDict):\n",
    "        countDict[item] += 1\n",
    "        else:\n",
    "            countDict[item] = 1\n",
    "  \n",
    "    print(\"Printing count of each item  \",countDict)"
   ]
  },
  {
   "cell_type": "markdown",
   "metadata": {},
   "source": [
    "#### Exercise 5: Given a two list of equal size create a Python set such that it shows the element from both lists in the pair\n"
   ]
  },
  {
   "cell_type": "code",
   "execution_count": 6,
   "metadata": {},
   "outputs": [],
   "source": [
    "list1 = [2, 3, 4, 5, 6, 7, 8]\n",
    "list2  = [4, 9, 16, 25, 36, 49, 64]"
   ]
  },
  {
   "cell_type": "code",
   "execution_count": 7,
   "metadata": {},
   "outputs": [],
   "source": [
    "resultlist = set(zip(list1,list2))"
   ]
  },
  {
   "cell_type": "code",
   "execution_count": 8,
   "metadata": {},
   "outputs": [
    {
     "name": "stdout",
     "output_type": "stream",
     "text": [
      "First List: [2, 3, 4, 5, 6, 7, 8]\n",
      "Second List: [4, 9, 16, 25, 36, 49, 64]\n",
      "Result is: {(7, 49), (2, 4), (4, 16), (8, 64), (6, 36), (3, 9), (5, 25)}\n"
     ]
    }
   ],
   "source": [
    "print(f\"First List: {list1}\")\n",
    "print(f\"Second List: {list2}\")\n",
    "print(f\"Result is: {resultlist}\")"
   ]
  },
  {
   "cell_type": "markdown",
   "metadata": {},
   "source": [
    "#### Exercise 6: Given the following two sets find the intersection and remove those elements from the first set\n"
   ]
  },
  {
   "cell_type": "code",
   "execution_count": 36,
   "metadata": {},
   "outputs": [],
   "source": [
    "set1 = {65, 42, 78, 83, 23, 57, 29}\n",
    "set2 = {67, 73, 43, 48, 83, 57, 29}"
   ]
  },
  {
   "cell_type": "code",
   "execution_count": 37,
   "metadata": {},
   "outputs": [],
   "source": [
    "intersecnum = set1.intersection(set2)\n",
    "for items in intersecnum:\n",
    "    set1.remove(items)"
   ]
  },
  {
   "cell_type": "code",
   "execution_count": 39,
   "metadata": {},
   "outputs": [
    {
     "name": "stdout",
     "output_type": "stream",
     "text": [
      "Intersection is :{57, 83, 29}\n",
      "First Set after removing common element: {65, 42, 78, 23}\n"
     ]
    }
   ],
   "source": [
    "print(f\"Intersection is :{intersecnum}\")\n",
    "print(f\"First Set after removing common element: {set1}\")"
   ]
  },
  {
   "cell_type": "markdown",
   "metadata": {},
   "source": [
    "#### Exercise 7: Given two sets, Checks if One Set is a subset or superset of another Set. if the subset is found delete all elements from that set\n"
   ]
  },
  {
   "cell_type": "code",
   "execution_count": 40,
   "metadata": {},
   "outputs": [],
   "source": [
    "firstSet = {27, 43, 34}\n",
    "secondSet = {34, 93, 22, 27, 43, 53, 48}"
   ]
  },
  {
   "cell_type": "code",
   "execution_count": 50,
   "metadata": {},
   "outputs": [
    {
     "name": "stdout",
     "output_type": "stream",
     "text": [
      "First Set set()\n",
      "Second Set {34, 43, 48, 53, 22, 27, 93}\n",
      "\n",
      "First set is subset of second set - True\n",
      "Second set is subset of first set - False\n",
      "\n",
      "First set is super set of second set - False\n",
      "Second set is super set of first set - True\n",
      "\n",
      "First Set set()\n",
      "Second Set {34, 43, 48, 53, 22, 27, 93}\n"
     ]
    }
   ],
   "source": [
    "print(f\"First Set {firstSet}\")\n",
    "print(f\"Second Set {secondSet}\")\n",
    "\n",
    "check_first_in_second = firstSet.issubset(secondSet)\n",
    "check_second_in_first = secondSet.issubset(firstSet)\n",
    "\n",
    "print(f\"\\nFirst set is subset of second set - {check_first_in_second}\")\n",
    "print(f\"Second set is subset of first set - {check_second_in_first}\")\n",
    "\n",
    "check_first_super = firstSet.issuperset(secondSet)\n",
    "check_second_super = secondSet.issuperset(firstSet)\n",
    "\n",
    "print(f\"\\nFirst set is super set of second set - {check_first_super}\")\n",
    "print(f\"Second set is super set of first set - {check_second_super}\")\n",
    "\n",
    "if check_first_in_second == True:\n",
    "    firstSet.clear()\n",
    "    \n",
    "else:\n",
    "    secondSet.clear()\n",
    "    \n",
    "print(f\"\\nFirst Set {firstSet}\")\n",
    "print(f\"Second Set {secondSet}\")"
   ]
  },
  {
   "cell_type": "markdown",
   "metadata": {},
   "source": [
    "#### Exercise 8: Iterate a given list and Check if a given element already exists in a dictionary as a key’s value if not delete it from the list\n"
   ]
  },
  {
   "cell_type": "code",
   "execution_count": 60,
   "metadata": {},
   "outputs": [],
   "source": [
    "rollNumber = [47, 64, 69, 37, 76, 83, 95, 97]\n",
    "sampleDict ={'Jhon':47, 'Emma':69, 'Kelly':76, 'Jason':97}"
   ]
  },
  {
   "cell_type": "code",
   "execution_count": 64,
   "metadata": {},
   "outputs": [
    {
     "name": "stdout",
     "output_type": "stream",
     "text": [
      "After removing unwanted elements from list: [47, 69, 76, 97]\n"
     ]
    }
   ],
   "source": [
    "outcome = []\n",
    "\n",
    "for x in sampleDict.values():\n",
    "    if x in rollNumber:\n",
    "        outcome.append(x)\n",
    "        \n",
    "print(f\"After removing unwanted elements from list: {outcome}\")"
   ]
  },
  {
   "cell_type": "markdown",
   "metadata": {},
   "source": [
    "#### Exercise 9: Given a dictionary get all values from the dictionary and add them to a list but don’t add duplicates\n"
   ]
  },
  {
   "cell_type": "code",
   "execution_count": 65,
   "metadata": {},
   "outputs": [],
   "source": [
    "speed ={\n",
    "    'jan':47, \n",
    "    'feb':52, \n",
    "    'march':47, \n",
    "    'April':44, \n",
    "    'May':52, \n",
    "    'June':53, \n",
    "    'july':54, \n",
    "    'Aug':44, \n",
    "    'Sept':54\n",
    "}"
   ]
  },
  {
   "cell_type": "code",
   "execution_count": 70,
   "metadata": {},
   "outputs": [
    {
     "data": {
      "text/plain": [
       "[44, 47, 52, 53, 54]"
      ]
     },
     "execution_count": 70,
     "metadata": {},
     "output_type": "execute_result"
    }
   ],
   "source": [
    "list(set(list(speed.values())))"
   ]
  },
  {
   "cell_type": "markdown",
   "metadata": {},
   "source": [
    "#### Exercise 10: Remove duplicate from a list and create a tuple and find the minimum and maximum number\n"
   ]
  },
  {
   "cell_type": "code",
   "execution_count": 71,
   "metadata": {},
   "outputs": [],
   "source": [
    "sampleList = [87, 45, 41, 65, 94, 41, 99, 94]"
   ]
  },
  {
   "cell_type": "code",
   "execution_count": 76,
   "metadata": {},
   "outputs": [
    {
     "name": "stdout",
     "output_type": "stream",
     "text": [
      "Unique items: [65, 99, 41, 45, 87, 94]\n",
      "Tuple: (65, 99, 41, 45, 87, 94)\n",
      "Min: 41\n",
      "Max: 99\n"
     ]
    }
   ],
   "source": [
    "nonduplist = list(set(sampleList))\n",
    "print(f\"Unique items: {nonduplist}\")\n",
    "\n",
    "nonduplist_tuple = tuple(nonduplist)\n",
    "print(f\"Tuple: {nonduplist_tuple}\")\n",
    "\n",
    "min_num = min(nonduplist)\n",
    "max_num = max(nonduplist)\n",
    "\n",
    "print(f\"Min: {min_num}\")\n",
    "print(f\"Max: {max_num}\")"
   ]
  },
  {
   "cell_type": "code",
   "execution_count": null,
   "metadata": {},
   "outputs": [],
   "source": []
  }
 ],
 "metadata": {
  "kernelspec": {
   "display_name": "Python 3",
   "language": "python",
   "name": "python3"
  },
  "language_info": {
   "codemirror_mode": {
    "name": "ipython",
    "version": 3
   },
   "file_extension": ".py",
   "mimetype": "text/x-python",
   "name": "python",
   "nbconvert_exporter": "python",
   "pygments_lexer": "ipython3",
   "version": "3.8.10"
  }
 },
 "nbformat": 4,
 "nbformat_minor": 4
}
