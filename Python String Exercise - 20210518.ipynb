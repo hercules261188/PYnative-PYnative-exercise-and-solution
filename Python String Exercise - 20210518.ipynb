{
 "cells": [
  {
   "cell_type": "markdown",
   "metadata": {},
   "source": [
    "https://pynative.com/python-string-exercise/"
   ]
  },
  {
   "cell_type": "markdown",
   "metadata": {},
   "source": [
    "#### Exercise 1: Given a string of odd length greater than 7, return a new string made of the middle three characters of a given String\n"
   ]
  },
  {
   "cell_type": "code",
   "execution_count": 10,
   "metadata": {},
   "outputs": [],
   "source": [
    "def stringodd7(string):\n",
    "    midsindex = int(len(string)/2)\n",
    "    endindex = midsindex + 2\n",
    "    startindex = midsindex - 1\n",
    "    print(string[startindex:endindex])"
   ]
  },
  {
   "cell_type": "code",
   "execution_count": 12,
   "metadata": {},
   "outputs": [
    {
     "name": "stdout",
     "output_type": "stream",
     "text": [
      "Son\n"
     ]
    }
   ],
   "source": [
    "stringodd7(\"JaSonAy\")"
   ]
  },
  {
   "cell_type": "markdown",
   "metadata": {},
   "source": [
    "#### Exercise 2: Given two strings, s1 and s2, create a new string by appending s2 in the middle of s1"
   ]
  },
  {
   "cell_type": "code",
   "execution_count": 17,
   "metadata": {},
   "outputs": [],
   "source": [
    "def appendinmid(s1,s2):\n",
    "    midindex = int(len(s1)/2)\n",
    "    firstpart = s1[:midindex]\n",
    "    secondpart = s1[midindex:]\n",
    "    outcome = firstpart+s2+secondpart\n",
    "    print(outcome)"
   ]
  },
  {
   "cell_type": "code",
   "execution_count": 18,
   "metadata": {},
   "outputs": [
    {
     "name": "stdout",
     "output_type": "stream",
     "text": [
      "AuKellylt\n"
     ]
    }
   ],
   "source": [
    "appendinmid(\"Ault\",\"Kelly\")"
   ]
  },
  {
   "cell_type": "markdown",
   "metadata": {},
   "source": [
    "#### Exercise Question 3: Given two strings, s1, and s2 return a new string made of the first, middle, and last characters each input string"
   ]
  },
  {
   "cell_type": "code",
   "execution_count": 20,
   "metadata": {},
   "outputs": [],
   "source": [
    "def newstring(s1,s2):\n",
    "    startstring = s1[0]+s2[0]\n",
    "    midstring = s1[int(len(s1)/2)] + s2[int(len(s2)/2)]\n",
    "    endstring = s1[-1]+s2[-1]\n",
    "    outcome = startstring+midstring+endstring\n",
    "    print(outcome)"
   ]
  },
  {
   "cell_type": "code",
   "execution_count": 22,
   "metadata": {},
   "outputs": [
    {
     "name": "stdout",
     "output_type": "stream",
     "text": [
      "AJrpan\n"
     ]
    }
   ],
   "source": [
    "newstring(\"America\",\"Japan\")"
   ]
  },
  {
   "cell_type": "markdown",
   "metadata": {},
   "source": [
    "#### Exercise 4: Arrange string characters such that lowercase letters should come first"
   ]
  },
  {
   "cell_type": "code",
   "execution_count": 28,
   "metadata": {},
   "outputs": [],
   "source": [
    "def newarrangestring(str1):\n",
    "    lower = []\n",
    "    upper = []\n",
    "    \n",
    "    for x in str1:\n",
    "        if x.islower():\n",
    "            lower.append(x)\n",
    "        \n",
    "        if x.isupper():\n",
    "            upper.append(x)\n",
    "    \n",
    "    outcome = \"\".join(upper+lower) #Join list into string\n",
    "    \n",
    "    print(outcome)"
   ]
  },
  {
   "cell_type": "code",
   "execution_count": 29,
   "metadata": {},
   "outputs": [
    {
     "name": "stdout",
     "output_type": "stream",
     "text": [
      "PNTyaive\n"
     ]
    }
   ],
   "source": [
    "newarrangestring(\"PyNaTive\")"
   ]
  },
  {
   "cell_type": "markdown",
   "metadata": {},
   "source": [
    "#### Exercise 5: Count all lower case, upper case, digits, and special symbols from a given string"
   ]
  },
  {
   "cell_type": "code",
   "execution_count": 34,
   "metadata": {},
   "outputs": [],
   "source": [
    "def countmachine(str1):\n",
    "    charscount = 0\n",
    "    digitscount = 0\n",
    "    symbolcount = 0\n",
    "    \n",
    "    for x in str1:\n",
    "        if x.isupper() or x.islower():\n",
    "            charscount += 1\n",
    "        \n",
    "        elif x.isnumeric():\n",
    "            digitscount += 1\n",
    "            \n",
    "        else:\n",
    "            symbolcount += 1\n",
    "    \n",
    "    print(\"Total counts of chars, digits,and symbols\")\n",
    "    print(f\"Chars = {charscount},\\nDigits = {digitscount},\\nSymbol {symbolcount}\")\n",
    "    "
   ]
  },
  {
   "cell_type": "code",
   "execution_count": 35,
   "metadata": {},
   "outputs": [
    {
     "name": "stdout",
     "output_type": "stream",
     "text": [
      "Total counts of chars, digits,and symbols\n",
      "Chars = 8,\n",
      "Digits = 3,\n",
      "Symbol 4\n"
     ]
    }
   ],
   "source": [
    "countmachine(\"P@#yn26at^&i5ve\")"
   ]
  },
  {
   "cell_type": "markdown",
   "metadata": {},
   "source": [
    "#### Exercise 6: Given two strings, s1 and s2, create a mixed String using the following rules"
   ]
  },
  {
   "cell_type": "code",
   "execution_count": 36,
   "metadata": {},
   "outputs": [],
   "source": [
    "def mixedof3(s1,s2):\n",
    "    startstring = s1[0]+s2[-1]\n",
    "    midstring = s1[1]+s2[1]\n",
    "    endstring = s1[-1]+s2[0]\n",
    "    \n",
    "    outcome = startstring+midstring+endstring\n",
    "    print(outcome)"
   ]
  },
  {
   "cell_type": "code",
   "execution_count": 37,
   "metadata": {},
   "outputs": [
    {
     "name": "stdout",
     "output_type": "stream",
     "text": [
      "AzbycX\n"
     ]
    }
   ],
   "source": [
    "mixedof3(\"Abc\",\"Xyz\")"
   ]
  },
  {
   "cell_type": "markdown",
   "metadata": {},
   "source": [
    "#### Exercise 7: String characters balance Test"
   ]
  },
  {
   "cell_type": "code",
   "execution_count": 54,
   "metadata": {},
   "outputs": [],
   "source": [
    "def stringbal(s1,s2):\n",
    "    for char in s1:\n",
    "        if char in s2:\n",
    "            return True\n",
    "        else:\n",
    "            return False"
   ]
  },
  {
   "cell_type": "code",
   "execution_count": 55,
   "metadata": {},
   "outputs": [],
   "source": [
    "s1 = \"Yne\"\n",
    "s2 = \"PYnative\""
   ]
  },
  {
   "cell_type": "code",
   "execution_count": 56,
   "metadata": {},
   "outputs": [
    {
     "data": {
      "text/plain": [
       "True"
      ]
     },
     "execution_count": 56,
     "metadata": {},
     "output_type": "execute_result"
    }
   ],
   "source": [
    "stringbal(s1,s2)"
   ]
  },
  {
   "cell_type": "markdown",
   "metadata": {},
   "source": [
    "#### Exercise 9: Given a string, return the sum and average of the digits that appear in the string, ignoring all other characters"
   ]
  },
  {
   "cell_type": "code",
   "execution_count": null,
   "metadata": {},
   "outputs": [],
   "source": []
  },
  {
   "cell_type": "markdown",
   "metadata": {},
   "source": [
    "#### Exercise 10: Given an input string, count occurrences of all characters within a string - need to revision"
   ]
  },
  {
   "cell_type": "code",
   "execution_count": 59,
   "metadata": {},
   "outputs": [],
   "source": [
    "def countoccur(str1):\n",
    "    countDict = dict()\n",
    "    for char in str1:\n",
    "        count = str1.count(char)\n",
    "        countDict[char]=count\n",
    "    print(countDict)"
   ]
  },
  {
   "cell_type": "code",
   "execution_count": 60,
   "metadata": {},
   "outputs": [
    {
     "name": "stdout",
     "output_type": "stream",
     "text": [
      "{'A': 1, 'p': 2, 'l': 1, 'e': 1}\n"
     ]
    }
   ],
   "source": [
    "countoccur(\"Apple\")"
   ]
  },
  {
   "cell_type": "markdown",
   "metadata": {},
   "source": [
    "#### Exercise 11: Reverse a given string"
   ]
  },
  {
   "cell_type": "code",
   "execution_count": 63,
   "metadata": {},
   "outputs": [],
   "source": [
    "def reversestring(str1):\n",
    "    outcome = str1[::-1]\n",
    "    print(outcome)"
   ]
  },
  {
   "cell_type": "code",
   "execution_count": 64,
   "metadata": {},
   "outputs": [
    {
     "name": "stdout",
     "output_type": "stream",
     "text": [
      "evitanYP\n"
     ]
    }
   ],
   "source": [
    "reversestring(\"PYnative\")"
   ]
  },
  {
   "cell_type": "markdown",
   "metadata": {},
   "source": [
    "#### Exercise 12: Find the last position of a substring “Emma” in a given string"
   ]
  },
  {
   "cell_type": "code",
   "execution_count": 72,
   "metadata": {},
   "outputs": [],
   "source": [
    "def findlaststring(str1):\n",
    "    positionindex = str1.rfind(\"Emma\")\n",
    "    print(\"The original string is '\", str1,\"'\")\n",
    "    print(f\"Last occurrence of Emma starts at index {positionindex}\")"
   ]
  },
  {
   "cell_type": "code",
   "execution_count": 73,
   "metadata": {},
   "outputs": [],
   "source": [
    "str1 = \"Emma is a data scientist who knows Python. Emma works at google.\""
   ]
  },
  {
   "cell_type": "code",
   "execution_count": 74,
   "metadata": {},
   "outputs": [
    {
     "name": "stdout",
     "output_type": "stream",
     "text": [
      "The original string is ' Emma is a data scientist who knows Python. Emma works at google. '\n",
      "Last occurrence of Emma starts at index 43\n"
     ]
    }
   ],
   "source": [
    "findlaststring(str1)"
   ]
  },
  {
   "cell_type": "markdown",
   "metadata": {},
   "source": [
    "#### Exercise 13: Split a given string on hyphens into several substrings and display each substring\n"
   ]
  },
  {
   "cell_type": "code",
   "execution_count": 85,
   "metadata": {},
   "outputs": [],
   "source": [
    "def splitstring(str1):\n",
    "    outcome = str1.split(sep=\"-\")\n",
    "    \n",
    "    for x in outcome:\n",
    "        print(x)"
   ]
  },
  {
   "cell_type": "code",
   "execution_count": 86,
   "metadata": {},
   "outputs": [],
   "source": [
    "str1 = \"Emma-is-a-data-scientist\""
   ]
  },
  {
   "cell_type": "code",
   "execution_count": 87,
   "metadata": {},
   "outputs": [
    {
     "name": "stdout",
     "output_type": "stream",
     "text": [
      "Emma\n",
      "is\n",
      "a\n",
      "data\n",
      "scientist\n"
     ]
    }
   ],
   "source": [
    "splitstring(str1)"
   ]
  },
  {
   "cell_type": "markdown",
   "metadata": {},
   "source": [
    "#### Exercise 14: Remove empty strings from a list of strings"
   ]
  },
  {
   "cell_type": "code",
   "execution_count": 98,
   "metadata": {},
   "outputs": [],
   "source": [
    "def removeempty(str_list):\n",
    "    filtered_list = list(filter(None,str_list)) # Filter out empty strings\n",
    "    print(filtered_list)"
   ]
  },
  {
   "cell_type": "code",
   "execution_count": 99,
   "metadata": {},
   "outputs": [],
   "source": [
    "str_list = [\"Emma\", \"Jon\", \"\", \"Kelly\", None, \"Eric\", \"\"]"
   ]
  },
  {
   "cell_type": "code",
   "execution_count": 100,
   "metadata": {},
   "outputs": [
    {
     "name": "stdout",
     "output_type": "stream",
     "text": [
      "['Emma', 'Jon', 'Kelly', 'Eric']\n"
     ]
    }
   ],
   "source": [
    "removeempty(str_list)"
   ]
  },
  {
   "cell_type": "markdown",
   "metadata": {},
   "source": [
    "#### Exercise 15: Remove special symbols/Punctuation from a given string"
   ]
  },
  {
   "cell_type": "code",
   "execution_count": 124,
   "metadata": {},
   "outputs": [],
   "source": [
    "from string import punctuation\n",
    "def removesymbols(str1):\n",
    "    new_str = str1.translate(str.maketrans('', '',punctuation))\n",
    "    print(\"New string is \", new_str)"
   ]
  },
  {
   "cell_type": "code",
   "execution_count": 125,
   "metadata": {},
   "outputs": [],
   "source": [
    "str1 = \"/*Jon is @developer & musician\""
   ]
  },
  {
   "cell_type": "code",
   "execution_count": 126,
   "metadata": {},
   "outputs": [
    {
     "name": "stdout",
     "output_type": "stream",
     "text": [
      "New string is  Jon is developer  musician\n"
     ]
    }
   ],
   "source": [
    "removesymbols(str1)"
   ]
  },
  {
   "cell_type": "markdown",
   "metadata": {},
   "source": [
    "#### Exercise 16: Removal all the characters other than integers from a string\n"
   ]
  },
  {
   "cell_type": "code",
   "execution_count": 128,
   "metadata": {},
   "outputs": [],
   "source": [
    "def removechar(str1):\n",
    "    outcome_list = []\n",
    "    for char in str1:\n",
    "        if char.isnumeric():\n",
    "            outcome_list.append(char)\n",
    "    \n",
    "    outcome = \"\".join(outcome_list)\n",
    "    print(outcome)"
   ]
  },
  {
   "cell_type": "code",
   "execution_count": 129,
   "metadata": {},
   "outputs": [],
   "source": [
    "str1 = 'I am 25 years and 10 months old'"
   ]
  },
  {
   "cell_type": "code",
   "execution_count": 130,
   "metadata": {},
   "outputs": [
    {
     "name": "stdout",
     "output_type": "stream",
     "text": [
      "2510\n"
     ]
    }
   ],
   "source": [
    "removechar(str1)"
   ]
  },
  {
   "cell_type": "code",
   "execution_count": null,
   "metadata": {},
   "outputs": [],
   "source": []
  }
 ],
 "metadata": {
  "kernelspec": {
   "display_name": "Python 3",
   "language": "python",
   "name": "python3"
  },
  "language_info": {
   "codemirror_mode": {
    "name": "ipython",
    "version": 3
   },
   "file_extension": ".py",
   "mimetype": "text/x-python",
   "name": "python",
   "nbconvert_exporter": "python",
   "pygments_lexer": "ipython3",
   "version": "3.8.10"
  }
 },
 "nbformat": 4,
 "nbformat_minor": 4
}
